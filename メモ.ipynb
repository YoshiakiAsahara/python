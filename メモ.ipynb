{
  "nbformat": 4,
  "nbformat_minor": 0,
  "metadata": {
    "colab": {
      "provenance": [],
      "authorship_tag": "ABX9TyNcUxX9PM04G4c5J/eLJszW",
      "include_colab_link": true
    },
    "kernelspec": {
      "name": "python3",
      "display_name": "Python 3"
    },
    "language_info": {
      "name": "python"
    }
  },
  "cells": [
    {
      "cell_type": "markdown",
      "metadata": {
        "id": "view-in-github",
        "colab_type": "text"
      },
      "source": [
        "<a href=\"https://colab.research.google.com/github/YoshiakiAsahara/python_learning_memo/blob/main/%E3%83%A1%E3%83%A2.ipynb\" target=\"_parent\"><img src=\"https://colab.research.google.com/assets/colab-badge.svg\" alt=\"Open In Colab\"/></a>"
      ]
    },
    {
      "cell_type": "markdown",
      "source": [
        "5月17日　自分の改善点\n",
        "\n",
        "1.   ネイピア数についての理解が浅い\n",
        "2.   ベクトル・行列の計算や知識が浅い\n",
        "3.   ベクトル・行列の計算や知識が浅い\n",
        "4.   対数についての理解が浅い\n",
        "5.   三章と深い参照の認識が逆だった\n",
        "6.   ブロードキャスト忘れてた\n",
        "7.   ドット積について知らなかった\n",
        "8.   fillnaメソッドについての理解が浅い\n",
        "9.   sinは正弦cosは余弦　上弦と下弦のひっかけバカ多い\n",
        "10.  zip関数はイメージがつかめてなかった。\n",
        "11.  サポートベクタマシンはマージンを最大にする\n",
        "12.  クラスタリングは教師なし学習であり、分割型は計算量が多くなってしまうため一般的ではない"
      ],
      "metadata": {
        "id": "IReJuCHNYb5c"
      }
    },
    {
      "cell_type": "code",
      "source": [
        "#[1 3] @ [-1 5] = [1*-1 3*5] = 14\n",
        "#[1 2]\n",
        "#     ・[1 3]\n",
        "#[3 4]\n",
        "#= [1*1 + 2*3 , 3*1 + 4*3] = [7, 15]"
      ],
      "metadata": {
        "colab": {
          "base_uri": "https://localhost:8080/",
          "height": 109
        },
        "id": "VG4Jma1Shb2R",
        "outputId": "f2c30676-1f9f-4962-c975-e0e918a1893d"
      },
      "execution_count": null,
      "outputs": [
        {
          "output_type": "error",
          "ename": "SyntaxError",
          "evalue": "invalid syntax. Perhaps you forgot a comma? (<ipython-input-1-01df3d52c9ac>, line 1)",
          "traceback": [
            "\u001b[0;36m  File \u001b[0;32m\"<ipython-input-1-01df3d52c9ac>\"\u001b[0;36m, line \u001b[0;32m1\u001b[0m\n\u001b[0;31m    [1 3] @ [-1 5] = [1*-1 3*5] = 14\u001b[0m\n\u001b[0m     ^\u001b[0m\n\u001b[0;31mSyntaxError\u001b[0m\u001b[0;31m:\u001b[0m invalid syntax. Perhaps you forgot a comma?\n"
          ]
        }
      ]
    },
    {
      "cell_type": "code",
      "source": [],
      "metadata": {
        "id": "ixq7byHlij--"
      },
      "execution_count": null,
      "outputs": []
    }
  ]
}