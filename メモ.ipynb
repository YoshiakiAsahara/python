{
  "nbformat": 4,
  "nbformat_minor": 0,
  "metadata": {
    "colab": {
      "provenance": [],
      "authorship_tag": "ABX9TyO7SQ9DGyS6OIi+lwprkDFa",
      "include_colab_link": true
    },
    "kernelspec": {
      "name": "python3",
      "display_name": "Python 3"
    },
    "language_info": {
      "name": "python"
    }
  },
  "cells": [
    {
      "cell_type": "markdown",
      "metadata": {
        "id": "view-in-github",
        "colab_type": "text"
      },
      "source": [
        "<a href=\"https://colab.research.google.com/github/YoshiakiAsahara/python_learning_memo/blob/main/%E3%83%A1%E3%83%A2.ipynb\" target=\"_parent\"><img src=\"https://colab.research.google.com/assets/colab-badge.svg\" alt=\"Open In Colab\"/></a>"
      ]
    },
    {
      "cell_type": "markdown",
      "source": [
        "5月17日　自分の改善点\n",
        "\n",
        "1.   ネイピア数についての理解が浅い\n",
        "2.   ベクトル・行列の計算や知識が浅い\n",
        "3.   ベクトル・行列の計算や知識が浅い\n",
        "4.   対数についての理解が浅い\n",
        "5.   三章と深い参照の認識が逆だった\n",
        "6.   ブロードキャスト忘れてた\n",
        "7.   ドット積について知らなかった\n",
        "8.   fillnaメソッドについての理解が浅い\n",
        "9.   sinは正弦cosは余弦　上弦と下弦のひっかけバカ多い\n",
        "10.  zip関数はイメージがつかめてなかった。\n",
        "11.  サポートベクタマシンはマージンを最大にする\n",
        "12.  クラスタリングは教師なし学習であり、分割型は計算量が多くなってしまうため一般的ではない"
      ],
      "metadata": {
        "id": "IReJuCHNYb5c"
      }
    },
    {
      "cell_type": "markdown",
      "source": [
        "**五月11日**\n",
        "1.   正しい・機械学習を用いずにカテゴライズや数値予測を行う手法の一つとして、ルールベースがある。ルールベースではプログラミングの条件分岐の要領でデータを容易にルール化できるが、パラメータの数が増えると記述が困難になる。\n",
        "2.   正しい・ データ分析に利用されるサードパーティ製パッケージの一つにSciPyがある。これは科学技術計算をサポートするものであり、scikit-learnの内部で高度な計算処理に多用されている。\n",
        "3.   正しい・Anacondaで設定した環境下でパッケージ管理をする場合には、Anaconda独自のcondaコマンドのほかpipも利用可能である。ただし稀にcondaコマンドで構築された環境がpipの利用で壊されてしまうこともあるため、Anacondaを利用する場合は基本的にcondaコマンドでパッケージ管理することが望ましい。\n",
        "4.   replaceは置き換えられるもの、おきかえるもの\n",
        "5.   行列の分解の理論「m×sの行列にs×nの行列を賭けると、m×nの行列になる」を逆に考えると、データ分析や機械学習において、説明変数の次元数を削減することができる。\n",
        "6.    NumpyではPython標準のリストと同様、要素を取り出すためにスライスを使うことができる。Python標準のリストではスライスした結果は参照が返され、Numpyではスライスの結果はコピーが返される。\n",
        "7.     read_htmlメソッドを使うと、WebサイトのHTML内のtable要素をDataFrameに取り込むことができる。read_htmlの結果はDataFrameのリストになっており、table要素が複数ある場合もインデックス番号を指定することで目的のテーブルを取得できる。\n",
        "8.    次元削減はデータを圧縮するタスク\n",
        "9.   正しい・mode().iloc[0.:]の結果をfillnaメソッドに引数として渡すと、欠損値を最頻値で補完できる。medianはそのまま\n",
        "10.   棒グラフとは異なり、ヒストグラムでは複数の値を指定すると、自動的に横に並んだ状態で表示される。\n",
        "11.   sklearn processing モジュールはone hot encoder pythonのmジュールはget_dummies\n",
        "12.   train_test_split関数は説明変数X、目的変数の順で入力する。\n",
        "13.   適合率、再現率、F値、正解率は、機械学習を用いて構築した分類モデルの良し悪しを評価する指標であり、混同行列から計算する。\n",
        "14.  凝集型の階層的クラスタリングは似ているデータをまとめて小さなクラスタを作りデータが一つのクラスタにまとめられるまで繰り返す。\n",
        "15.  分割型の階層的クラスタリングは計算量が多く、あまり使われない\n",
        "16.  適合率はあたりの割合\n",
        "適合率は、モデルが正と予測したもののうち、実際に正だった割合を表します。\n",
        "病院の診断などで、誤検出を最小限に抑える必要がある場合、適合率を重視します。つまり、偽陽性（誤検出）を避けるために高い適合率を目指します。\n",
        "\n",
        "17.  再現率取りこぼしたくないときに重視あいまいなものを全部予測しているものにぶっこむ\n",
        "再現率は、実際に正であるもののうち、モデルが正と予測できた割合を表します。\n",
        "病院の診断などで、見逃しを最小限に抑える必要がある場合、再現率を重視します。つまり、偽陰性（見逃し）を避けるために高い再現率を目指します。\n",
        "18.  F値は適合率と再現率の調和平均2×適合率×再現率/（適合率＋再現率）\n",
        "\n",
        "\n",
        "\n"
      ],
      "metadata": {
        "id": "FjUz2LZ0bFKD"
      }
    },
    {
      "cell_type": "code",
      "source": [
        "import pandas as pd\n",
        "df = pd.DataFrame([[50, \"a\", False],[25, \"b\", True],[35, \"c\", True]])\n",
        "df.index = [\"01\", \"02\", \"03\"]\n",
        "df.columns = [\"A\", \"B\", \"C\"]\n",
        "\n",
        "def judge(arg):\n",
        "  if arg <= 50:\n",
        "    return \"low\"\n",
        "  elif arg < 70:\n",
        "    return \"middle\"\n",
        "  else:\n",
        "    return \"high\"\n",
        "\n",
        "df.iloc[:, 2] = df.loc[:, \"A\"] * 2\n",
        "df.iloc[:, 1] = df.loc[:, \"C\"].apply(judge)\n",
        "_ = df[\"C\"] < 80\n",
        "df = df[_]\n",
        "print(df)\n",
        "print(df.iloc[1, 2], df.iloc[-1, 1])"
      ],
      "metadata": {
        "colab": {
          "base_uri": "https://localhost:8080/"
        },
        "id": "iD3as5Ngj7r5",
        "outputId": "7648b70f-be1d-4fb8-b442-4f9dc372f9fc"
      },
      "execution_count": 7,
      "outputs": [
        {
          "output_type": "stream",
          "name": "stdout",
          "text": [
            "     A     B   C\n",
            "02  25   low  50\n",
            "03  35  high  70\n",
            "70 high\n"
          ]
        }
      ]
    },
    {
      "cell_type": "markdown",
      "source": [
        "何がなんの列にはいいっているか、列にどんな操作を加えているのか、局所的な変化じゃなくて、全体をつかむ"
      ],
      "metadata": {
        "id": "xXkdvEUNlS5D"
      }
    },
    {
      "cell_type": "code",
      "source": [
        "import numpy as np\n",
        "a = np.array([7,8,9])\n",
        "b = np.array([[1, 2, 3], [4, 5, 6], [7, 8, 9]])\n",
        "print(a.shape, b[0:1, [1,2]])"
      ],
      "metadata": {
        "colab": {
          "base_uri": "https://localhost:8080/"
        },
        "id": "vfLtyLGZh8c2",
        "outputId": "d55762cb-bfb5-48c1-eb93-b2c04d5ac690"
      },
      "execution_count": 5,
      "outputs": [
        {
          "output_type": "stream",
          "name": "stdout",
          "text": [
            "(3,) [[2 3]]\n"
          ]
        }
      ]
    },
    {
      "cell_type": "markdown",
      "source": [
        "スライシングは終点が含まれない。"
      ],
      "metadata": {
        "id": "kSNl0Y1Xivtw"
      }
    },
    {
      "cell_type": "code",
      "source": [
        "import numpy as np\n",
        "import pandas as pd\n",
        "np.random.seed(123)\n",
        "dates = pd.date_range(start=\"2020-01-01\", periods=31)\n",
        "df = pd.DataFrame(np.random.randint(1, 10, 31), index=dates, columns=[\"rand\"])\n",
        "print(df)\n",
        "\n",
        "df_year = pd.DataFrame(df.groupby(pd.Grouper(freq='W-MON')).sum(), columns=[\"rand\"] )\n",
        "print(df_year)\n",
        "#10が含まれない"
      ],
      "metadata": {
        "id": "BwW1zsfSlvhm"
      },
      "execution_count": null,
      "outputs": []
    },
    {
      "cell_type": "code",
      "source": [
        "df = pd.DataFrame(np.random.randint(1, 11, 31), index=dates, columns=[\"rand\"])\n",
        "#10が含まれる"
      ],
      "metadata": {
        "id": "8JQZu3C4mbbj"
      },
      "execution_count": null,
      "outputs": []
    },
    {
      "cell_type": "markdown",
      "source": [
        "@は内積　同じ成分同士の積の和\n",
        "dotは行列積　縦カンマ横に積の和\n",
        "円グラフのアスペクト比を保持するためにplt.axis('equal')を指定\n",
        "棒グラフのbinsの"
      ],
      "metadata": {
        "id": "BD_YHakQqiM8"
      }
    },
    {
      "cell_type": "markdown",
      "source": [
        "インタープリタを起動するコマンドは、以下のいずれかとなります。\n",
        "\n",
        "python\n",
        "python[バージョン]\n",
        "python -c コマンド [引数]\n",
        "\n",
        "選択肢3はオプションが「-c」ではなく「-i」となっているため誤りです。\n",
        "対話モードでは、最後に表示した式は変数「_」（アンダースコア）に代入される。\n",
        "\n",
        "問題文の「r'C:\\sample\\number'」は、シングルクオーテーションで囲った文字列の先頭に「r」が付いているため、raw文字列です。\n",
        "\n",
        "raw文字列は、バックスラッシュ（\\）などの特別な意味を持つ記号を、そのまま文字として扱いたいときに使います。\n",
        "\n",
        "なお、raw文字列を使わずに「print('C:\\sample\\number')」とすると、選択肢2のように「\\n」が改行として解釈されます。\n",
        "\n",
        "エスケープシーケンス → 特別な意味\n",
        "-------------------------------\n",
        "\\t → タブ\n",
        "\\n → 改行\n",
        "\\’ → シングルクオーテーション\n",
        "\\” → ダブルクオーテーション\n",
        "\\\\ → バックスラッシュ\n",
        "\n",
        "continueはループの残りを飛ばして次の反復に進みます。\n",
        "「def job(arg=number):」の「number」はデフォルト値です。\n",
        "\n",
        "引数のデフォルト値は、関数を定義した時点で決定します。\n",
        "\n",
        "問題文の場合、一行目でnumberに7を代入した後、次の行の「def job(arg=number):」で、argのデフォルト値は「7」で決定します。\n",
        "選択肢1が正解です。\n",
        "\n",
        "引数は、位置引数を先に記述し、キーワード引数を後に記述する必要があります。\n",
        "\n",
        "問題文の「job(foo=30, 20)」は位置引数が後になっているため、「SyntaxError: positional argument follows keyword argument」のエラーになります。\n",
        "\n",
        "以下のように、最終行が「job(30, bar=20)」であればエラーにならず、選択肢2の「20, 30」の結果になります。\n",
        "\n",
        "「/」は、その前が位置引数だけであることを示す記号です。\n",
        "\n",
        "「*」は、その後がキーワード引数だけであることを示す記号です。\n",
        "\n",
        "「/」と「*」の間は、位置引数とキーワード引数のどちらでも問題ありません。"
      ],
      "metadata": {
        "id": "2IcBs92x1lUK"
      }
    },
    {
      "cell_type": "markdown",
      "source": [
        "5月\n",
        "python -m venv name\n",
        "nameはディレクトリ名\n",
        "loggingモジュール深刻度\n",
        "DEBUG、INFO、WARNING、ERROR、CRITICAL\n",
        "numpyは複数のデータ型を同じ配列に扱えない\n",
        "textメソッドのデフォは左下"
      ],
      "metadata": {
        "id": "J2TmBqP8oAH-"
      }
    },
    {
      "cell_type": "markdown",
      "source": [
        "問題文の「'pine'」と「'apple'」のように、列挙された文字列は自動的に連結されます。\n"
      ],
      "metadata": {
        "id": "2qmPkK6SnOEJ"
      }
    },
    {
      "cell_type": "code",
      "source": [
        "str1=\"2021/05/11\"\n",
        "x=list(str1) #文字を要素とするリスト\n",
        "print(x)\n",
        "y=str1.split(\"/\") #/で分けた文字列のリスト\n",
        "print(y)\n",
        "str2=\"-\" #区切りの文字列を決める\n",
        "str3=str2.join(y) #それを使って連結\n",
        "print(str3) #str3は文字列"
      ],
      "metadata": {
        "colab": {
          "base_uri": "https://localhost:8080/"
        },
        "id": "qVREZpfjRY0N",
        "outputId": "b97b8838-4c6b-4eaa-ad07-aaf6373ddbd7"
      },
      "execution_count": null,
      "outputs": [
        {
          "output_type": "stream",
          "name": "stdout",
          "text": [
            "['2', '0', '2', '1', '/', '0', '5', '/', '1', '1']\n",
            "['2021', '05', '11']\n",
            "2021-05-11\n"
          ]
        }
      ]
    },
    {
      "cell_type": "code",
      "source": [
        "str1=\"2021/05/11\"\n",
        "x=list(str1) #文字を要素とするリスト\n",
        "print(x)\n",
        "y=str1.split(\"/\") #/で分けた文字列のリスト\n",
        "print(y)\n",
        "str2=\"-\" #区切りの文字列を決める\n",
        "str3=str2.join(y) #それを使って連結\n",
        "print(str3) #str3は文字列\n",
        "8,14\n",
        "16,30"
      ],
      "metadata": {
        "colab": {
          "base_uri": "https://localhost:8080/"
        },
        "id": "eS4B8lFRRxUA",
        "outputId": "fcf18180-d147-4b86-a70b-d5a878af40d9"
      },
      "execution_count": null,
      "outputs": [
        {
          "output_type": "stream",
          "name": "stdout",
          "text": [
            "['2', '0', '2', '1', '/', '0', '5', '/', '1', '1']\n",
            "['2021', '05', '11']\n",
            "2021-05-11\n"
          ]
        }
      ]
    },
    {
      "cell_type": "code",
      "source": [
        "import logging\n",
        "\n",
        "logging.basicConfig(\n",
        "format='%(levelname)s'\n",
        ")\n",
        "logging.debug('デバッグレベル')\n",
        "logging.info('INFOレベル')\n",
        "logging.warning('警告レベル')\n",
        "logging.error('エラーレベル')\n",
        "logging.critical('重大なエラー')"
      ],
      "metadata": {
        "colab": {
          "base_uri": "https://localhost:8080/"
        },
        "id": "EKSO4yZjePEc",
        "outputId": "9f2c0585-7c1d-46dd-fc82-538fe20a8d26"
      },
      "execution_count": 2,
      "outputs": [
        {
          "output_type": "stream",
          "name": "stderr",
          "text": [
            "WARNING:root:警告レベル\n",
            "ERROR:root:エラーレベル\n",
            "CRITICAL:root:重大なエラー\n"
          ]
        }
      ]
    },
    {
      "cell_type": "markdown",
      "source": [
        "DEBUG, INFOはデフォルトの設定では出力されない。出力するにdisable_existing_loggers: False か loggers: {'fuga': {}} が必要"
      ],
      "metadata": {
        "id": "5ACF0Rjsf1pQ"
      }
    },
    {
      "cell_type": "markdown",
      "source": [
        "**五月18日**\n",
        "関数：数と数の間の関係\n",
        "数と数の間の関係を定義、x入力とy出力がある。\n",
        "微分：小さな変動を見る。\n",
        "ベクトル：数を横か縦に並べたもの\n",
        "掛け算は、手前のインデックスと奥のカラムズを参照した積の和で新たな行列を作成する。"
      ],
      "metadata": {
        "id": "QO4auWWgSomu"
      }
    }
  ]
}